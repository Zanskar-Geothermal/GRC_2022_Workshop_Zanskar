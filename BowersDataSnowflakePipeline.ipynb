{
  "cells": [
    {
      "cell_type": "markdown",
      "metadata": {
        "id": "view-in-github",
        "colab_type": "text"
      },
      "source": [
        "<a href=\"https://colab.research.google.com/github/Zanskar-Geothermal/GRC_2022_Workshop_Zanskar/blob/main/BowersDataSnowflakePipeline.ipynb\" target=\"_parent\"><img src=\"https://colab.research.google.com/assets/colab-badge.svg\" alt=\"Open In Colab\"/></a>"
      ]
    },
    {
      "cell_type": "markdown",
      "metadata": {
        "id": "kUQpyBvBL0K0"
      },
      "source": [
        "# Import packages, functions, and Google Authentication"
      ]
    },
    {
      "cell_type": "code",
      "execution_count": null,
      "metadata": {
        "id": "gTLoOrH1JeWO"
      },
      "outputs": [],
      "source": [
        "# Modify this before you write any files anywhere!\n",
        "SHEET_VERSION = \"_v1\""
      ]
    },
    {
      "cell_type": "code",
      "execution_count": null,
      "metadata": {
        "id": "5jZHFpGZjgw6"
      },
      "outputs": [],
      "source": [
        "import pandas as pd\n",
        "import numpy as np"
      ]
    },
    {
      "cell_type": "code",
      "execution_count": null,
      "metadata": {
        "id": "CZDAxkeekAgJ"
      },
      "outputs": [],
      "source": [
        "from google.colab import auth\n",
        "import gspread\n",
        "from google.auth import default\n",
        "#autenticating to google\n",
        "auth.authenticate_user()\n",
        "creds, _ = default()\n",
        "gc = gspread.authorize(creds)"
      ]
    },
    {
      "cell_type": "code",
      "execution_count": null,
      "metadata": {
        "id": "RhJog-8BlVpT"
      },
      "outputs": [],
      "source": [
        "\n",
        "import numpy as np\n",
        "def get_sheet(workbook_url, worksheet):\n",
        "  '''\n",
        "      Retrieves a google sheet provided by an url\n",
        "\n",
        "      Inputs:\n",
        "        workbook_url : str\n",
        "          url of the google sheet\n",
        "        worksheet : str\n",
        "          Worksheet you wish to import \n",
        "\n",
        "      Returns:\n",
        "        pd.DataFrame\n",
        "  '''\n",
        "  workbook = gc.open_by_url(workbook_url)\n",
        "\n",
        "  if worksheet not in [e.title for e in workbook.worksheets()]:\n",
        "    raise ValueError(f\"Worksheet {worksheet} was not found inside the {workbook_url}\")\n",
        "\n",
        "  # Get all rows:\n",
        "  rows = workbook.worksheet(worksheet).get_all_values()\n",
        "\n",
        "  #Convert to a DataFrame \n",
        "  df = pd.DataFrame(rows)\n",
        "  df.columns = df.iloc[0]\n",
        "  df = df.iloc[1:]\n",
        "\n",
        "  return df\n",
        "\n",
        "def get_and_concat_sheets(workbook_url, worksheets):\n",
        "  '''\n",
        "    Inputs: \n",
        "      workbook_url : str\n",
        "        Workbook url \n",
        "      \n",
        "      worksheets : list\n",
        "        A list of worksheets to concat\n",
        "  '''\n",
        "\n",
        "  data = []\n",
        "  columns = [] \n",
        "\n",
        "  for sheet in worksheets:\n",
        "\n",
        "    df = get_sheet(workbook_url, sheet)\n",
        "    df['Sheet_Name'] = sheet\n",
        "    data.append(df)\n",
        "    columns.append(df.columns.to_list())\n",
        "\n",
        "    # check if all data frames have the same columns:\n",
        "    # if len(columns) > 0:\n",
        "    #   for col in columns:\n",
        "    #     if not (all(c in columns[0] for c in col)):\n",
        "    #       raise ValueError(f\"The data frames don't have matching columns.\")\n",
        "\n",
        "    print(f\"Read sheet {sheet} with {df.shape[0]} rows.\")\n",
        "  \n",
        "  return data, columns\n",
        "\n",
        "def concat_dfs(dfs):\n",
        "  '''\n",
        "    Concatenates data frames and makes sure they have matching columns\n",
        "  '''\n",
        "  cols = set()\n",
        "  for df in dfs:\n",
        "    cols.union(set(df.columns))\n",
        "\n",
        "  all_dfs = []\n",
        "  for df in dfs:\n",
        "    col_dif = cols - set(df.columns)\n",
        "\n",
        "    if len(col_dif) > 0:\n",
        "      for cd in col_dif:\n",
        "        df[cd] = np.nan\n",
        "    \n",
        "    all_dfs.append(df.loc[:,list(cols)])\n",
        "  \n",
        "  return pd.concat(all_dfs)"
      ]
    },
    {
      "cell_type": "code",
      "execution_count": null,
      "metadata": {
        "id": "vRcaEy9hRVqH"
      },
      "outputs": [],
      "source": [
        "def write_tables_parquet(df, name):\n",
        "  \"\"\" \n",
        "  input dataframe and name for file\n",
        "  \"\"\"\n",
        "  df.to_parquet(str(name) + '.gzip',\n",
        "                  compression='gzip')"
      ]
    },
    {
      "cell_type": "markdown",
      "metadata": {
        "id": "TRzwJg4OCuFf"
      },
      "source": [
        "# Import data and concatenate"
      ]
    },
    {
      "cell_type": "code",
      "execution_count": null,
      "metadata": {
        "id": "WUSdYTiTk8xJ"
      },
      "outputs": [],
      "source": [
        "#gets data from Google Drive\n",
        "TEMPERATURE_WORKBOOK = 'https://docs.google.com/spreadsheets/d/17--KA6cvTn5Y-_T5W6p5nhrAySx7zin4AolpbHmShsg/edit#gid=1296186900'\n",
        "TEMPERATURE_SHEETS = ['TG_Gina', 'TG_Kayla']\n",
        "\n",
        "GEOCHEM_WORKBOOK = 'https://docs.google.com/spreadsheets/d/1u6sAjhFGPt944-lu7qO2i3P6MB61v_Ila2c_PW93z8A/edit#gid=0'\n",
        "GEOCHEM_SHEETS = ['Sheet1']"
      ]
    },
    {
      "cell_type": "code",
      "execution_count": null,
      "metadata": {
        "colab": {
          "base_uri": "https://localhost:8080/"
        },
        "id": "fRcHRZ3h4amc",
        "outputId": "72237b77-0410-4614-ebe9-c6dd242b01e9"
      },
      "outputs": [
        {
          "output_type": "stream",
          "name": "stdout",
          "text": [
            "Read sheet TG_Gina with 27006 rows.\n",
            "Read sheet TG_Kayla with 24462 rows.\n"
          ]
        }
      ],
      "source": [
        "#concatenates identified sheets into one dataframe\n",
        "temperature, columns = get_and_concat_sheets(TEMPERATURE_WORKBOOK, TEMPERATURE_SHEETS)\n",
        "\n",
        "temperature_DF = pd.concat(temperature, ignore_index=True)"
      ]
    },
    {
      "cell_type": "code",
      "execution_count": null,
      "metadata": {
        "colab": {
          "base_uri": "https://localhost:8080/"
        },
        "id": "RFsBmtz26Z7u",
        "outputId": "4ff96e75-22e5-4a05-a835-887915912e88"
      },
      "outputs": [
        {
          "name": "stdout",
          "output_type": "stream",
          "text": [
            "Read sheet Sheet1 with 25 rows.\n"
          ]
        }
      ],
      "source": [
        "#concatenates identified sheets into one dataframe\n",
        "geochem, gc_columns = get_and_concat_sheets(GEOCHEM_WORKBOOK, GEOCHEM_SHEETS)\n",
        "\n",
        "geochem_DF = pd.concat(geochem)"
      ]
    },
    {
      "cell_type": "code",
      "execution_count": null,
      "metadata": {
        "colab": {
          "base_uri": "https://localhost:8080/"
        },
        "id": "m-dqj7aYSAHX",
        "outputId": "06e4d5d4-84a1-4484-e27a-b5a313787e6c"
      },
      "outputs": [
        {
          "name": "stdout",
          "output_type": "stream",
          "text": [
            "Drive already mounted at /content/drive; to attempt to forcibly remount, call drive.mount(\"/content/drive\", force_remount=True).\n"
          ]
        }
      ],
      "source": [
        "from google.colab import drive\n",
        "drive.mount('/content/drive')"
      ]
    },
    {
      "cell_type": "code",
      "execution_count": null,
      "metadata": {
        "colab": {
          "base_uri": "https://localhost:8080/"
        },
        "id": "xNmHjkjXSZZo",
        "outputId": "b3b8904b-6364-443b-e15b-8489ab28adbd"
      },
      "outputs": [
        {
          "name": "stdout",
          "output_type": "stream",
          "text": [
            "/content/drive/Shareddrives/Zanskar_Geoscience/Projects/Bowers_Data\n"
          ]
        }
      ],
      "source": [
        "%cd '/content/drive/Shareddrives/Zanskar_Geoscience/Projects/Bowers_Data'"
      ]
    },
    {
      "cell_type": "markdown",
      "metadata": {
        "id": "SZn-RfcOfr2R"
      },
      "source": [
        "#Geochem prep"
      ]
    },
    {
      "cell_type": "code",
      "execution_count": null,
      "metadata": {
        "id": "gVn0lPzYV8Se"
      },
      "outputs": [],
      "source": [
        "#curate columns\n",
        "\n",
        "geochem_DF['Number'] = geochem_DF['Number'].astype(str)\n",
        "\n",
        "geochem_DF['pH'] = geochem_DF['pH'].apply(pd.to_numeric,errors='coerce')\n",
        "\n",
        "geochem_col = [\"Number\", \"Identification\",\t\"Basin No.\",\t\"Temperature [C]\",\t\"pH\",\t\"Conductivity [µmhos/cm]\",\t\"SiO2 [ppm]\",\t\"Ag [ppm]\",\t\"Al [ppm]\",\t\"As [ppm]\",\t\"Au [ppm]\",\t\"B [ppm]\",\t\n",
        "               \"Ba [ppm]\", \"Be [ppm]\", \"Bi [ppm]\",\t\"Br [ppm]\",\t\"Ca [ppm]\",\t\"Cd [ppm]\",\t\"Ce [ppm]\",\t\"Cl [ppm]\",\t\"Co [ppm]\",\t\"Cs [ppm]\",\t\"Cr [ppm]\",\t\"Cu [ppm]\",\t\"CaCO3 [ppm]\",\n",
        "               \"CO3 [ppm]\", \"OH [ppm]\",\t\"HCO3 [ppm]\",\t\"CO3 & HCO3 [ppm]\",\t\"F [ppm]\",\t\"Fe [ppm]\",\t\"Hg [ppm]\", \"I [ppm]\", \"K [ppm]\", \"La [ppm]\", \"Li [ppm]\", \"Mg [ppm]\", \"Mn [ppm]\", \"Mo [ppm]\",\n",
        "               \"Na [ppm]\", \"Ni [ppm]\", \"NH3 [ppm]\", \"NH4 [ppm]\", \"NO2 [ppm]\", \"NO3 [ppm]\", \"NO3 & NO2 [ppm]\", \"P [ppm]\", \"Pb [ppm]\", \"PO4 [ppm]\", \"Rb [ppm]\", \"S [ppm]\", \"Sb [ppm]\", \"Se [ppm]\", \"Sn [ppm]\", \n",
        "               \"Sr [ppm]\", \"SO4 [ppm]\", \"Te [ppm]\", \"Ti [ppm]\", \"Th [ppm]\", \"U [ppm]\", \"V [ppm]\", \"W [ppm]\", \"Zn [ppm]\", \"Zr [ppm]\", \"Total Major Species [ppm]\", \"Cations Sum\", \"Anions Sum\", \"Ratio Cations/Anions\",\t\"TDS [ppm]\",\n",
        "               \"Total Alkalinity\", \"Sodium Abosorption\"]\n",
        "for i in geochem_col:\n",
        "  geochem_DF.loc[geochem_DF[i]==\"\", i] = np.nan #makes blank cells null\n"
      ]
    },
    {
      "cell_type": "code",
      "execution_count": null,
      "metadata": {
        "id": "ajX-7vc0YoCm"
      },
      "outputs": [],
      "source": [
        "# Remove < symbol from results and mark in seperate column\n",
        "\n",
        "ppm_wstring = ['B [ppm]',\t'CO3 [ppm]', 'Hg [ppm]', 'Mn [ppm]', 'P [ppm]']\n",
        "\n",
        "for col in ppm_wstring: \n",
        "  filter_v = geochem_DF[col].astype(str).str.contains(\"<\", na=False)\n",
        "  geochem_DF[col  + '_lessthan'] = False\n",
        "  geochem_DF.loc[filter_v, col + '_lessthan'] = True\n",
        "  geochem_DF = geochem_DF.replace({col + '_lessthan': {'<': ''}})\n",
        "  geochem_DF = geochem_DF.replace({col + '_lessthan': {False: np.nan, True: \"<\"}})\n",
        "  geochem_DF[[col]] = geochem_DF[\n",
        "    [col]].apply(pd.to_numeric,errors='coerce')\n",
        "  "
      ]
    },
    {
      "cell_type": "code",
      "execution_count": null,
      "metadata": {
        "id": "iKDdKWUUG3Po"
      },
      "outputs": [],
      "source": [
        "write_tables_parquet(geochem_DF, f'Bowers_GeochemData_Sheets_{SHEET_VERSION}')"
      ]
    },
    {
      "cell_type": "markdown",
      "metadata": {
        "id": "-lFlUmpRft5Q"
      },
      "source": [
        "#Temperature Prep"
      ]
    },
    {
      "cell_type": "code",
      "execution_count": null,
      "metadata": {
        "colab": {
          "base_uri": "https://localhost:8080/"
        },
        "id": "NlC4REnwf8JR",
        "outputId": "f27e2fdc-7b8a-4f04-941c-cfb38b739032"
      },
      "outputs": [
        {
          "output_type": "stream",
          "name": "stdout",
          "text": [
            "Elevation [ft]\n",
            "Latitude\n",
            "Longitude\n",
            "Depth [m]\n",
            "Temp [C]\n",
            "Depth [ft]\n",
            "Temp [F]\n",
            "Run_Number\n"
          ]
        }
      ],
      "source": [
        "#convert to float - columns: lat, long, depth [ft], depth [m], elevation [ft], temp [C], temp [F], run_number\n",
        "float_columns = [\"Elevation [ft]\", \"Latitude\", \"Longitude\", \"Depth [m]\", \"Temp [C]\", \"Depth [ft]\", \"Temp [F]\", \"Run_Number\"]\n",
        "index = range(len(temperature_DF))\n",
        "for i in float_columns: \n",
        "  temperature_DF.loc[temperature_DF[i] == \"\", i] = np.nan #makes blank cells null\n",
        "  print(i)\n",
        "  for j in index:\n",
        "    if type(temperature_DF[i][j]) == str:\n",
        "        try:\n",
        "          oldstring=temperature_DF[i][j]\n",
        "          newstring=oldstring.replace(\",\", \"\")\n",
        "          temperature_DF[i][j] = float(newstring)\n",
        "        except:\n",
        "          temperature_DF[i][j] = np.nan"
      ]
    },
    {
      "cell_type": "code",
      "source": [
        "#convert string column to timestamp column\n",
        "temperature_DF[\"Log_Date\"] = pd.to_datetime(temperature_DF[\"Log_Date\"])\n",
        "\n",
        "def fix_date_cols(df, tz='UTC'): #adding time zone to timestamp makes Snowflake read the timestamp as a date\n",
        "    cols = df.select_dtypes(include=['datetime64[ns]']).columns \n",
        "    print(cols)\n",
        "    for col in cols:\n",
        "        df[col] = df[col].dt.tz_localize(tz)\n",
        "\n",
        "fix_date_cols(temperature_DF)\n"
      ],
      "metadata": {
        "colab": {
          "base_uri": "https://localhost:8080/"
        },
        "id": "b_9x34oBCGOx",
        "outputId": "44a98ae8-2787-4357-be4e-c17a8867b076"
      },
      "execution_count": null,
      "outputs": [
        {
          "output_type": "stream",
          "name": "stdout",
          "text": [
            "Index(['Log_Date'], dtype='object', name=0)\n"
          ]
        }
      ]
    },
    {
      "cell_type": "code",
      "execution_count": null,
      "metadata": {
        "id": "RrlRYpkafuzv"
      },
      "outputs": [],
      "source": [
        "write_tables_parquet(temperature_DF, f'Bowers_TempData_Sheets_{SHEET_VERSION}')"
      ]
    },
    {
      "cell_type": "markdown",
      "metadata": {
        "id": "BQSJyaIKhNx_"
      },
      "source": [
        "#Test read\n",
        "Ensure that columns are of the proper data type for Snowflake injestion"
      ]
    },
    {
      "cell_type": "code",
      "execution_count": null,
      "metadata": {
        "id": "6xbmVUj6hOv3"
      },
      "outputs": [],
      "source": [
        "Temperature_data_df = pd.read_parquet(f\"Bowers_TempData_Sheets_{SHEET_VERSION}.gzip\")\n"
      ]
    },
    {
      "cell_type": "code",
      "execution_count": null,
      "metadata": {
        "id": "SF6Tj0n-hjhb"
      },
      "outputs": [],
      "source": [
        "Temperature_data_df.info() #displays condensed info on dataframe"
      ]
    },
    {
      "cell_type": "code",
      "execution_count": null,
      "metadata": {
        "id": "JgA28_FihnVV"
      },
      "outputs": [],
      "source": [
        "Geochem_data_df = pd.read_parquet(f\"Bowers_GeochemData_Sheets_{SHEET_VERSION}.gzip\")\n",
        "\n",
        "Geochem_data_df"
      ]
    },
    {
      "cell_type": "code",
      "execution_count": null,
      "metadata": {
        "id": "xwVSNs9dh0lg"
      },
      "outputs": [],
      "source": [
        "Geochem_data_df.info() #displays condensed info on dataframe"
      ]
    },
    {
      "cell_type": "markdown",
      "metadata": {
        "id": "DfucgYD6Dpuq"
      },
      "source": [
        "# Ingest to Snowflake"
      ]
    },
    {
      "cell_type": "code",
      "execution_count": null,
      "metadata": {
        "id": "Hk87vVAtDw2i"
      },
      "outputs": [],
      "source": [
        "# install snowflake connector\n",
        "\n",
        "!pip install \"snowflake-connector-python[secure-local-storage,pandas]\""
      ]
    },
    {
      "cell_type": "code",
      "execution_count": null,
      "metadata": {
        "colab": {
          "base_uri": "https://localhost:8080/"
        },
        "id": "eEy1UEIRE9BV",
        "outputId": "5731d0bf-4c26-47a4-84e3-1c6f8d4c82ce"
      },
      "outputs": [
        {
          "output_type": "stream",
          "name": "stdout",
          "text": [
            "Initiating login request with your identity provider. A browser window should have opened for you to complete the login. If you can't see it, check existing browser windows, or your OS settings. Press CTRL+C to abort and try again...\n",
            "Going to open: https://accounts.google.com/o/saml2/idp?idpid=C01b7xnzd&SAMLRequest=nZJdb9sgFIb%2FisWuDRg3WoLiRFmirpbaNWrSadsdBeKyYPAA22l%2F%2FXA%2BpO6ivdgFEoL3nOec857p%2FFDrpJPOK2sKkEEMEmm4FcpUBXjcXqdjkPjAjGDaGlmAF%2BnBfDb1rNYNXbTh2TzIP630IYmJjKfDRwFaZ6hlXnlqWC09DZxuFne3lEBMmffShYgD5xDhVWQ9h9BQhPq%2Bh30OrasQwRgjPEFRNUg%2BgTeI5mNG42yw3OpLyCH29A4iQ%2FhqQERFJKzPgV%2BUOY3gI8rTSeTpzXa7Ttf3my1IFpfultb4tpZuI12nuHx8uD0V4IcKQp5PRlew9SmXJjimM1jxBnpj%2B51me8lt3bQh5obxhnZSIG0rFSdWrgrQ7JU4lIxY%2FnrXHdgN%2BdqUPxYdUXa3N6ufv%2Bs%2BM2M3yolch67bc5B8v%2FhLBn9L71tZmsHVEJ8wyVNMUjLeEkJxRkcE5njyCySr6KoyLBwjL6Uzzm1rgoeVtZWWx%2FosGiwhSIlmHo8SxRJnT58P5lWA06rQI9PN%2Fm8AU%2FQ2x3n3vkU7ytXaasVfkmvrahbedyuD2fFFiXR3lFJZM6UXQjjpfXRNa9svnWQhrnhwrQRodqL%2Bu%2BSzvw%3D%3D&RelayState=59607 to authenticate...\n",
            "We were unable to open a browser window for you, please open the url above manually then paste the URL you are redirected to into the terminal.\n",
            "Enter the URL the SSO URL redirected you to: http://localhost:59607/?token=rVfblqLIEn33K1z2Y3UVVxVcbc3hpqKigijiy1kJJBdFQJKbfv1BLe2q6p6ePjPzRgaROyJ2RMaK-PZHdQibBUxREEf9FvGCt5owsmMniLx-a6UPnplWE2UgckAYR7DfiuLWH6_fEDiEZNLTIEriCMFmDRKh3k3ab-Vp1IsBClAvAgeIepndW3LKtEe-4L0kjbPYjsNWU4QoCyKQXQ37WZagHoaVGUWxbfolR882jLIUhMSLZycvKIpLNwR7aMeHJK_veS_1F-ZCBwtjL4haTVnst_7LtmGXcds05QDatRkIKZrt0qRLEzZDgK5bq0V3p_W430r2gVPJgIzts1JUYEQOE3nDFWQQu_tINHeHkoiYtE2RcJEVxd6u7yOUQzm6UJL1WyROUs84-UwyOkn2cKJXu4536G2rub5TWgfdeiOsd72cvmfr12QBhGB6Iaj1eicI2HacRxl68eLYC-GVhRi7Yv0ROEng9AWcsLpVdHa-Ye-tPpK2zECWo09HIXZgcw3CHP7aI3TV7i1z24YItbDXNyOfYHvc3fO_E-wtlxawCJew25RNWThjA9x1XNJiIOt2IEPD7r-Si3-DV6fmI_DqSs7T-0tw0K2kLxVdli8l9RKnHkbiOI7hLFbrOCjwvrQed6EjR258PQogiqPABmFwvr4NBWZ-7DS50IvTIPMPfwJMYAR-AX6Glf1sE3T05ZKc9679NhBO3z18PsQp_JIi8Ix8QLY7b5AadGFadwnYXGlyv_Xlr1N1vaanIEJunB7Qx-NfuvSBNBgVMIwT6Dyje2Rvbv0-4M_Jwn70UQy8ukv9n8zVzHz5wNcN5fq6XsUZEyFj3jY3xXQ00czTQp0Bfm-vZ8tYZfSBE2cmV2V6NrD7V4_eX74KHuzfjp_K55Hu241BxSw6qHwaPm3R-DSVhPZAz_Xxtq2BTYeXEPKVM4dn7mmQBwny93N60D21udhQg-6wvfS7AgcSYs0o_qrdkEhsdXLiY5brMN8pExqQ-2BMbYYlUNJ8vFxW8320HGDEoGsXI2pWSiHlZ0x4iIySmS6UziEp22UFdiAwG0vXSwakQyBW8BPOqJKQOx4tWA7nM3zmaTEbzEm0CUI3GHU2TDAuIFx0yYnqBlrOVYa64Kad2YpgiN2AaphlbHRV8sQyJwXllDnQdunemMNJUTJrq9yc0Tx9CgbWcKBJk0oxZpyipb6An7CpJAv7mFDmfBGa-wgWZkNoL8j1vqwGc1WotNP5XBbeeD9hxXCx8PBxCXzu5HH9_oP-d3xfUjCBp0c6Nm2cFUEGHodlbu2gnc3q9ve61PtC_c7rcosC8FXor5Zf56v-8NqAmoM4bRpxuv8qzN5EX6d95dKjQBA11wEsv87vunJkv1y9-WzhblW4dFa37ioZfFVkWXREQeDCOopS5jlPHnIbOyxmsaNw-FBYHodL2aJEVeKFcsUpI1QNRG7Je7M1z8W6gDuFRTpou-THDeug5IpmlgPOFNeqOpJKYmZR69wZDhIr4A1grClFZUpRvf4XpXI7skg2soaraihyxg0U6WIN2nhDHVqU7K1J9gTO0lTh9kOOWEm8rwjrtVJJZ067XfJ0YT_zrWF4sKhxDgypHPn2TNlJpaLLVUPRzWp2VinjKjQvwvIh2_FdRVNLybt6NZHK7O6VtzTau-lOMhRevRmulFlDN1jCijQfGLS3PoShc5YWF64uClylDDWSLbZkFSqaVw5uoFOpZB-g2oE9yQOnsA-oaghnbnwLwdS5cK0rmlJKN35kqUxEs34M2_qCdQj9Olm8vONmvLc_-vtgyJY4z6nSgOPmAqcyXOOiIHiT-iBxoWPRIBRNDyaoc7b3gw41qmeko7EOCmdBmxnBGDE6L6nhIu60WdbmsY4JfCbxp9Mi4_WG0NWJaZjKq4gSjIld4Nv8aTk6LTZHezSWK9CRAjYFAhgmjlg_K3Uxqdv71oQUG9O05QqH7i4_pFOiokyy4dSV0n7qOKW-zLZ2jpQEuNRsRrGaqyAW6ZtZd2JhmKhnYrbYMjI1P2fWwlF54_gUbeTddiQKeTR9sg1n2SBimTvWTOeUZMENcA47zBT9bec8HiYgtUOq3EnhtHty_A4ftfdesCLc3OU8gRh1_c1Tl-uapKrBzMx1tjGVQEluGXqGkQNNUU7ByR9he9rsCqO0EvRhsfEoLJwG-BANEpXlA1UWOZXjf_Y6GhxdPyFVWEr0OloPhewYe_uZdDxx-bma-gVpdxOjzbaBvFvPUxPpgMklotj6pRWJc3ZxCNitxhIHgdKOx4ZcEFTnZNKnwra2CYFSl1-Ic2awYqdr8OShFblagK4hFoY2aa-rJD8enta87NAdFVtMuzsCdjsjwYo364naMLwEp7kUzEUti1WXh_oRbs471MYNKW17k8QPdrsFOdsGhJIEOz6NiidiOhFnO7ur747wdORdv4MbRrSdNLKCHq52lefZcUdOcCo8BtjYLDpLBjJPbNId096cH-9wJYKeyab79bTtjGzXX59NWvc1rz1V97ge8uyeEhpcAjVlM-RYkcakk3_yTtKGO3exqX7cB2gXqePqKVrNh0Swbj_62vse9hDeeiv2vut-6Mr3ae-tKd6Pl-Yoi5ceewDZn4-lxAtxlQTOs3tV7cEDCELOcdLL9Pu6A3Zs_edcjwx7kNY7y30yvMF_si3EkRtcQC5T8W2k-PVAbB96FgQpTFu_QLoQ8I-XmlmczaN5yrkZTH8YpDvfB2kN2kESwMu0_Y8Xtsfq8LOoPv-7E1DrOMFFAV185mGdFfjR4Xrsf-fwbwb22FpyJ7hMVjWbWRrYN08-_nr9e4Hf43nAfBZ8MIl9jva7F5kfXTYteKhtNq_HHxYgoqMTnR7F9Oi6inC8pmFZV2sNI0cOrH5ns_pgrvYig1X2M5kQ1ktbPY--_nKvs3v2Ra8W5xFK6hJyA-h8j_8ncD_7-VH44OC7-L4-fl9J74_i9X8=\n",
            "[('jacob@zanskar.us',)]\n"
          ]
        }
      ],
      "source": [
        "#initiate connection\n",
        "import snowflake.connector\n",
        "\n",
        "\n",
        "credentials = {\n",
        "    'account'    : \"ivvssic-ds27297\"\n",
        "    , 'user'     : \"jacob@zanskar.us\"\n",
        "    , 'authenticator' : 'externalbrowser'\n",
        "    }\n",
        "# Create a connection string:\n",
        "cnx = snowflake.connector.connect(**credentials)\n",
        "cur  = cnx.cursor()\n",
        "cur.execute('SELECT CURRENT_USER()')\n",
        "text = cur.fetchall()\n",
        "\n",
        "print(text)\n",
        "\n",
        "# Close the connection once done. \n",
        "cnx.close()"
      ]
    },
    {
      "cell_type": "code",
      "execution_count": null,
      "metadata": {
        "colab": {
          "base_uri": "https://localhost:8080/"
        },
        "id": "b9k6DNZbOjIo",
        "outputId": "0b719605-bbbc-4b91-eb83-6b410501a6c0"
      },
      "outputs": [
        {
          "name": "stdout",
          "output_type": "stream",
          "text": [
            "Initiating login request with your identity provider. A browser window should have opened for you to complete the login. If you can't see it, check existing browser windows, or your OS settings. Press CTRL+C to abort and try again...\n",
            "Going to open: https://accounts.google.com/o/saml2/idp?idpid=C01b7xnzd&SAMLRequest=nZJNj9owEIb%2FSuSeYzsJCLAIiELZ0tKWLmH7cfM6Jlg4drAdAv31dfiQtofdQw%2BWLPudeWbmneH4VMrgyI0VWqUgghgEXDGdC1WkYJPNwz4IrKMqp1IrnoIzt2A8GlpayopMardTj%2FxQc%2BsCn0hZ0n6koDaKaGqFJYqW3BLHyHryZUliiAm1lhvnceAWklvhWTvnKoJQ0zSwSaA2BYoxxggPkFe1knfgBaJ6m1EZ7TTT8h5y8j29gogQ7rQIr%2FCE1S3wvVDXEbxFeb6KLPmYZatw9W2dgWBy726qla1LbtbcHAXjm8fltQDbVuCSZNDtwNqGjCtnqIxgwSpolW62ku4502VVO58b%2Bhva8hxJXQg%2FscUsBdVe5O5h%2BfNH1H3iJums5a%2FjTs22h80n8%2BEsdNLr7b9nyfRzMT887PcMBE93f%2BPW34W1NV%2Bo1lXnn3CchDgO434WxySKCR7Abr%2F%2FGwQz76pQ1F0i76VTxnStnIWF1oXkl%2Fo0ai2JkcirsT8iT6c4eu6d1J8cXFeFXJhm9H8DGKKXOW6799XbsZittBTsHMy1Kal73a0IRpcXkYfbi5Twkgo5yXPDrfWuSambqeHU%2BRV3puYAja7Uf5d89Bc%3D&RelayState=45025 to authenticate...\n",
            "We were unable to open a browser window for you, please open the url above manually then paste the URL you are redirected to into the terminal.\n",
            "Enter the URL the SSO URL redirected you to: http://localhost:45025/?token=rVdbk6LIEn73VxjOo9PNVRFj7T3cVBRUEEF8OcGluMhVCkT99Qd1dLp7Z2fn7G5ER9iVZH2Z-WVWRuZvv5-SuH0EBQyzdNTBXtFOG6RO5oapP-pstPHLoNOGpZW6VpylYNRJs87vb79BK4nxfKgCmGcpBO0GJIXDu3TUqYp0mFkwhMPUSgAcls5wzcjSEH9Fh3mRlZmTxZ02D2AZplZ5MxyUZQ6HCFKXBEH3yNcKvjggLQsrxl59J3-FaVZ7sRUBJ0vyqrnnvzb_IR5wkTjzw7TTFvlR57-OS-E0idko6jie5Vl4f4B6uNv8kI2o7zRq6cNpLRt18ih0y4m0NbCeDgqCXMfmMUh577CZFcI5zAiKihSN4Ob--DCJout9CCsgpldKylEHR3HiBcVf8IGG40Os-cNeB1R_12nrD0qboDvfCBveLhfv2fo5WRaEoLgS1Hl7EGQ5TlalJXz1s8yPwY2FDLlh_R66eeiOOBSzqVN6cX9D3lt9Jm1dWmUFPx25zAVt3Yor8HOP4E17uK4cB0DYQd6-GfkEO2Qenv-dYO-5pGnc9npUz7aBR6GApnrABU1ojkNadL8P_pVc_Bu8ug0fod9UclU8XoIL7yV9rei6fq2J16zwERxFUQSlkUbHhaH_pfO8C1wx9bLbkbPSLA0dKw4vt7chgzLI3DYT-1kRlkHyJ8AYgqFX4Bdwcl4cjEy_XJPz3rVfBkLJh4cvSVaALwW0XmBg4b3-N0gVeKBougRob1Rx1Pny16m6XdMKK4VeViTw4_EvXfpAGkiPIM5y4L7AR2Tf3Pp1wB-ThfzRRz70my71fzLXMPPlA193lNvrelMYLaR0jJAO8kSYVZsw3aHLlR6GKsmKnHweJP7GLJaYnQmjm0fvL98ET_bvx0_l80z3_YZsEHqFbTC0u-QiQxs7DjrvMmKxVc-euvD2kpWUASAo6Ob1-qid0oM5N5eBRS8Pi8McZsF4cNRiYbPKLlJrA4OiLjLCIPaWvg2LI2Kam0m92YbMOIaIogrigE3j5cVPEcZxtE3ECtttP3b7DLl0AnF5PDOT5Wq5mOt4izjKfWvahwWh0kkmIN1aP_P2pTtGZsuovvhEEKNGemBReXd0ia6ioNWCCCgKQs44b7OTjVclGBusye2zFjZ3lLI8zHYuNisP88W8kDJ6142iMiBi01luIjlUZmM9qcCW2RWROd-lCViyJFeq0lpeh968pgMbInaPa_X6mwMRkXDtzAnpBMK9OJZmyi6fMRYIJy5RzyRA1KPRk_53fF9TMAfnZzq2PZTmrdJ6HtaVvQdOuWja39taG3HNO2_KLQ2tr9xos_663IwmtwbUHmdF28iK6Cu3-Cb6Ko3ka4-ywrSth6D-unzoiqnzevPms4WHVe7aWb2mq5RNSYgi7_Icx8Rnn6lFlvHFCbN14uMic2UGnXDrw2Qt2gSvCCxXbxh5Ck9jnlmz_kJnmUzjUPdo4y7crdlZy07kSlbNesyYvK4oU6HGFnZTcu5knNsha1iGTsjKoOaV23deqHdTG6dTe7I5TXjGuINCjW9AW99QJzYh-jpOn62LIMlMNGGwjcAGMqfr8km4MOr9kq9x0SKwJ3FiE7PKMoR6GjgLeS_UsiaeWrJmnhYXhTBuQvMqrJ-yPUvJqlIL_s2ruVCXD6_8tdHbS3vBkFnlbvgkL1qaQWN2qgaWQfp6EsfuRVhduboqMCd5ouL0cYefYln16_EdVBJq-gmqJvRZHLtHJ4GnFndhZvcQTI2JdU1W5Vq48yMKdc6bxinfNRfsJA6aZLHinlmwfnQIonBC1yjLKMKYYZYcowyY1lWB8-fNQWBi1yatmDd9kMP-xYnGfWLazEgHQw-P7oo0S2xgZPCyJiarrN-jaYdF-qYVDPJAko4lq7U4SsOkuBA3KcEZc-eI7qruenpebQ_OdCaerL4Q0oXFWZPc5XW7VlZzMCB3JiDojCRtj0uofZUUEnYiTLzlNpXS6_bdWluXO6eCcm55xGJB0KonQxpq2wU1txGE10q-XO0GIrG8lPbKVVjj0E234n435bkqlbqO4a5bWCYyh4bpihBssLXcZI-YfLDrX2aT3CqcmKj3QixRZzfos2kv8sMN5lUe43PYlAq2XYqhTFxRQWlWGt2SBKvGdwNygeBjVZbP4TmYIhFpUty0OHHa5Lj1CSSWQnQCx7lCs6Ei8ozCsD96HS2GbJ6Qwq0FUk_1CVceMj9aCIczU11OUnDEHSo3enTPEvf6sjChZg0qATvugtpO-SW9SkJ6p9JYwhHq4dASjxjRP5vk-ejYuxyDhceu-OVgvKEl3er6cINvVhZl8EdDnff0U14dkq7Oii7ZV5CVRO0xQPWnnJ1t9bnSMvwcJZnCWvJqmSkeC7QD2F72sIcaQtHz53kQ7vcrfLELMTkP92yRHruYNOcXe4fS9gdwPrBe0EcNI93NW-WRnGz2J993sr6Yo0R8CJGZeeyvB2DQpXNqRvpLdrZH5RT4Jl1EutRzp44X6BeT1ALV70lKhGoxS0cE12JyoMrbCUPzJCKcg7N_FrbMhUIk7RCFcJ8qs1M33SwnWKj3nn3tfQ97Cu-9FXnfdT905ce0960pPo7X5ijy1x6bWOWfj6XYK3aThO6Ld1MdgsQKY8Z1i-v0-7a3nMz-z6UZGSKraHaWx2R4h_9km8tSL7yCXKfi-0jx84HYSYY2sApQdH6CdCXgHy81i6xcpsuC8UpQ_GGQpr4P0ipwwjwE12n7Hy9sz9XhR1F9_vYgoNFxw6sCvPrMgiYr4LPD6DuHfzGw59ZSueF1smrYLIvQuXvy8dPb3wv8Ec8T5rPgg0nkc7TfvSiD9LppgaSx2b4d_7AAYX0N6w-JwZBsqghFGxrWTbU2MGLqgtOvbFYfzDVelOBU_kjGxc3S1syjbz_d65yhc9VrxFUK86aEvBC43-P_AdyPPn4UPjn4Ln6sj99X0sejePsf\n"
          ]
        },
        {
          "output_type": "execute_result",
          "data": {
            "text/plain": [
              "(True,\n",
              " 1,\n",
              " 51468,\n",
              " [('bacijgixcf/file0.txt',\n",
              "   'LOADED',\n",
              "   51468,\n",
              "   51468,\n",
              "   1,\n",
              "   0,\n",
              "   None,\n",
              "   None,\n",
              "   None,\n",
              "   None)])"
            ]
          },
          "metadata": {},
          "execution_count": 28
        }
      ],
      "source": [
        "#writes pandas dataframe to Snowflake\n",
        "\n",
        "from snowflake.connector.pandas_tools import write_pandas\n",
        "\n",
        "cxn = snowflake.connector.connect(**credentials)\n",
        "\n",
        "write_pandas(cxn, Temperature_data_df, \"BowersTempData\", \"DB_SCRATCH\", \"RAW\", auto_create_table=True)"
      ]
    },
    {
      "cell_type": "code",
      "execution_count": null,
      "metadata": {
        "id": "7HYj0ka0Sz2Q"
      },
      "outputs": [],
      "source": [
        "#writes pandas dataframe to Snowflake\n",
        "\n",
        "from snowflake.connector.pandas_tools import write_pandas\n",
        "\n",
        "cxn = snowflake.connector.connect(**credentials)\n",
        "\n",
        "write_pandas(cxn, Geochem_data_df, \"BowersGeochemData\", \"DB_SCRATCH\", \"RAW\", auto_create_table=True)"
      ]
    }
  ],
  "metadata": {
    "colab": {
      "collapsed_sections": [
        "kUQpyBvBL0K0",
        "TRzwJg4OCuFf",
        "SZn-RfcOfr2R",
        "-lFlUmpRft5Q",
        "BQSJyaIKhNx_",
        "DfucgYD6Dpuq"
      ],
      "provenance": [],
      "toc_visible": true,
      "include_colab_link": true
    },
    "kernelspec": {
      "display_name": "Python 3",
      "name": "python3"
    },
    "language_info": {
      "name": "python"
    }
  },
  "nbformat": 4,
  "nbformat_minor": 0
}